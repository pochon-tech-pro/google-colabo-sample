{
  "nbformat": 4,
  "nbformat_minor": 0,
  "metadata": {
    "colab": {
      "provenance": [],
      "authorship_tag": "ABX9TyN+AWqM0sTjSuYXMS1bIFuj",
      "include_colab_link": true
    },
    "kernelspec": {
      "name": "python3",
      "display_name": "Python 3"
    },
    "language_info": {
      "name": "python"
    }
  },
  "cells": [
    {
      "cell_type": "markdown",
      "metadata": {
        "id": "view-in-github",
        "colab_type": "text"
      },
      "source": [
        "<a href=\"https://colab.research.google.com/github/pochon-tech-pro/google-colabo-sample/blob/main/AI%E3%81%AE%E5%AD%A6%E7%BF%92.ipynb\" target=\"_parent\"><img src=\"https://colab.research.google.com/assets/colab-badge.svg\" alt=\"Open In Colab\"/></a>"
      ]
    },
    {
      "cell_type": "markdown",
      "source": [],
      "metadata": {
        "id": "0CDJb2PfO-mm"
      }
    },
    {
      "cell_type": "markdown",
      "source": [
        "## CPUとGPUの違い\n",
        "\n",
        "### CPU\n",
        "- コンピュータの中心的な処理装置\n",
        "- CPUのコア数は２〜８\n",
        "- 複雑な処理を順番に処理していく\n",
        "\n",
        "### GPU\n",
        "- CPUよりも並列演算性能に優れ、行列演算が得意\n",
        "- シンプルな処理しかできない\n",
        "- GPUのコア数は数千\n",
        "\n",
        "### TPU\n",
        "- Googleが開発した、機械学習に特化した集積回路（特定条件下でGPUよりも高速）"
      ],
      "metadata": {
        "id": "5yTYCVxNPASt"
      }
    }
  ]
}